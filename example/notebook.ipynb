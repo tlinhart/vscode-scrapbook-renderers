{
 "cells": [
  {
   "cell_type": "code",
   "execution_count": null,
   "id": "0",
   "metadata": {},
   "outputs": [
    {
     "data": {
      "application/scrapbook.scrap.json+json": {
       "data": 1.5,
       "encoder": "json",
       "name": "number",
       "version": 1
      }
     },
     "metadata": {
      "scrapbook": {
       "data": true,
       "display": false,
       "name": "number"
      }
     },
     "output_type": "display_data"
    },
    {
     "data": {
      "application/scrapbook.scrap.text+json": {
       "data": "dummy",
       "encoder": "text",
       "name": "string",
       "version": 1
      }
     },
     "metadata": {
      "scrapbook": {
       "data": true,
       "display": false,
       "name": "string"
      }
     },
     "output_type": "display_data"
    },
    {
     "data": {
      "application/scrapbook.scrap.json+json": {
       "data": [
        1,
        2,
        3
       ],
       "encoder": "json",
       "name": "list",
       "version": 1
      }
     },
     "metadata": {
      "scrapbook": {
       "data": true,
       "display": false,
       "name": "list"
      }
     },
     "output_type": "display_data"
    },
    {
     "data": {
      "application/scrapbook.scrap.json+json": {
       "data": {
        "a": 1,
        "b": "dummy"
       },
       "encoder": "json",
       "name": "dict",
       "version": 1
      }
     },
     "metadata": {
      "scrapbook": {
       "data": true,
       "display": false,
       "name": "dict"
      }
     },
     "output_type": "display_data"
    },
    {
     "data": {
      "application/scrapbook.scrap.json+json": {
       "data": {
        "dict": {
         "a": 1,
         "b": "dummy"
        },
        "list": [
         1,
         2,
         3
        ],
        "num": 1.5,
        "str": "dummy"
       },
       "encoder": "json",
       "name": "data",
       "version": 1
      }
     },
     "metadata": {
      "scrapbook": {
       "data": true,
       "display": false,
       "name": "data"
      }
     },
     "output_type": "display_data"
    }
   ],
   "source": [
    "import scrapbook\n",
    "\n",
    "scrapbook.glue(\"number\", 1.5)\n",
    "scrapbook.glue(\"string\", \"dummy\")\n",
    "scrapbook.glue(\"list\", [1, 2, 3])\n",
    "scrapbook.glue(\"dict\", {\"a\": 1, \"b\": \"dummy\"})\n",
    "scrapbook.glue(\n",
    "    \"data\",\n",
    "    {\"num\": 1.5, \"str\": \"dummy\", \"list\": [1, 2, 3], \"dict\": {\"a\": 1, \"b\": \"dummy\"}},\n",
    ")"
   ]
  }
 ],
 "metadata": {
  "hide_input": false,
  "language_info": {
   "codemirror_mode": {
    "name": "ipython"
   },
   "file_extension": ".py",
   "mimetype": "text/x-python",
   "name": "python",
   "nbconvert_exporter": "python"
  }
 },
 "nbformat": 4,
 "nbformat_minor": 5
}
